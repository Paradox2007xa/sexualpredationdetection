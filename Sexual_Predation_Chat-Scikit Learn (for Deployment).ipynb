{
 "cells": [
  {
   "cell_type": "markdown",
   "metadata": {},
   "source": [
    "# Importing Libraries"
   ]
  },
  {
   "cell_type": "code",
   "execution_count": 1,
   "metadata": {},
   "outputs": [],
   "source": [
    "import numpy as np\n",
    "import matplotlib.pyplot as plt\n",
    "import pandas as pd"
   ]
  },
  {
   "cell_type": "markdown",
   "metadata": {},
   "source": [
    "# Load the dataset"
   ]
  },
  {
   "cell_type": "code",
   "execution_count": 2,
   "metadata": {},
   "outputs": [
    {
     "data": {
      "text/plain": "                                         Description  Category\n0  Buses approaching to this place is highly unsafe.         1\n1                        a man was commenting at me.         1\n2                                    in a share auto         0\n3  I was coming out of a club at night with a few...         1\n4  One of my friends was molested in the crowd. T...         0",
      "text/html": "<div>\n<style scoped>\n    .dataframe tbody tr th:only-of-type {\n        vertical-align: middle;\n    }\n\n    .dataframe tbody tr th {\n        vertical-align: top;\n    }\n\n    .dataframe thead th {\n        text-align: right;\n    }\n</style>\n<table border=\"1\" class=\"dataframe\">\n  <thead>\n    <tr style=\"text-align: right;\">\n      <th></th>\n      <th>Description</th>\n      <th>Category</th>\n    </tr>\n  </thead>\n  <tbody>\n    <tr>\n      <th>0</th>\n      <td>Buses approaching to this place is highly unsafe.</td>\n      <td>1</td>\n    </tr>\n    <tr>\n      <th>1</th>\n      <td>a man was commenting at me.</td>\n      <td>1</td>\n    </tr>\n    <tr>\n      <th>2</th>\n      <td>in a share auto</td>\n      <td>0</td>\n    </tr>\n    <tr>\n      <th>3</th>\n      <td>I was coming out of a club at night with a few...</td>\n      <td>1</td>\n    </tr>\n    <tr>\n      <th>4</th>\n      <td>One of my friends was molested in the crowd. T...</td>\n      <td>0</td>\n    </tr>\n  </tbody>\n</table>\n</div>"
     },
     "execution_count": 2,
     "metadata": {},
     "output_type": "execute_result"
    }
   ],
   "source": [
    "dataset = pd.read_csv(\"dev.csv\")\n",
    "dataset.head()"
   ]
  },
  {
   "cell_type": "code",
   "execution_count": 3,
   "metadata": {},
   "outputs": [
    {
     "data": {
      "text/plain": "(991, 2)"
     },
     "execution_count": 3,
     "metadata": {},
     "output_type": "execute_result"
    }
   ],
   "source": [
    "dataset.shape"
   ]
  },
  {
   "cell_type": "code",
   "execution_count": 4,
   "metadata": {},
   "outputs": [
    {
     "data": {
      "text/plain": "991"
     },
     "execution_count": 4,
     "metadata": {},
     "output_type": "execute_result"
    }
   ],
   "source": [
    "len(dataset)"
   ]
  },
  {
   "cell_type": "code",
   "execution_count": 5,
   "metadata": {},
   "outputs": [
    {
     "data": {
      "text/plain": "Index(['Description', 'Category'], dtype='object')"
     },
     "execution_count": 5,
     "metadata": {},
     "output_type": "execute_result"
    }
   ],
   "source": [
    "dataset.columns"
   ]
  },
  {
   "cell_type": "code",
   "execution_count": 6,
   "metadata": {},
   "outputs": [
    {
     "data": {
      "text/plain": "Description    object\nCategory        int64\ndtype: object"
     },
     "execution_count": 6,
     "metadata": {},
     "output_type": "execute_result"
    }
   ],
   "source": [
    "dataset.dtypes"
   ]
  },
  {
   "cell_type": "code",
   "execution_count": 7,
   "metadata": {},
   "outputs": [
    {
     "name": "stderr",
     "output_type": "stream",
     "text": [
      "C:\\Users\\ASUS\\anaconda3\\lib\\site-packages\\seaborn\\_decorators.py:36: FutureWarning: Pass the following variable as a keyword arg: x. From version 0.12, the only valid positional argument will be `data`, and passing other arguments without an explicit keyword will result in an error or misinterpretation.\n",
      "  warnings.warn(\n"
     ]
    },
    {
     "data": {
      "text/plain": "<AxesSubplot:xlabel='Category', ylabel='count'>"
     },
     "execution_count": 7,
     "metadata": {},
     "output_type": "execute_result"
    },
    {
     "data": {
      "text/plain": "<Figure size 432x288 with 1 Axes>",
      "image/png": "[encoded data removed]"
     },
     "metadata": {
      "needs_background": "light"
     },
     "output_type": "display_data"
    }
   ],
   "source": [
    "import seaborn as sns\n",
    "sns.countplot('Category',data=dataset)"
   ]
  },
  {
   "cell_type": "code",
   "execution_count": 8,
   "metadata": {},
   "outputs": [
    {
     "data": {
      "text/plain": "Description    0\nCategory       0\ndtype: int64"
     },
     "execution_count": 8,
     "metadata": {},
     "output_type": "execute_result"
    }
   ],
   "source": [
    "dataset.isnull().sum()"
   ]
  },
  {
   "cell_type": "markdown",
   "metadata": {},
   "source": [
    "# Cleaning the text"
   ]
  },
  {
   "cell_type": "code",
   "execution_count": 9,
   "metadata": {},
   "outputs": [
    {
     "name": "stderr",
     "output_type": "stream",
     "text": [
      "[nltk_data] Downloading package stopwords to\n",
      "[nltk_data]     C:\\Users\\ASUS\\AppData\\Roaming\\nltk_data...\n",
      "[nltk_data]   Package stopwords is already up-to-date!\n"
     ]
    }
   ],
   "source": [
    "import re\n",
    "import nltk\n",
    "nltk.download('stopwords')\n",
    "from nltk.corpus import stopwords\n",
    "from nltk.stem.porter import PorterStemmer"
   ]
  },
  {
   "cell_type": "code",
   "execution_count": 10,
   "metadata": {},
   "outputs": [],
   "source": [
    "corpus = []\n",
    "for i in range(0,991):   #we have 991 chats\n",
    "    chat = re.sub('[^a-zA-Z]',\" \",dataset[\"Description\"][i]) #sub can replace anything in a text with anything #replace punctuation\n",
    "    chat = chat.lower()\n",
    "    chat = chat.split()\n",
    "    pe = PorterStemmer()\n",
    "    all_stopword = stopwords.words('english')\n",
    "    type(all_stopword)\n",
    "    all_stopword.remove('not')\n",
    "    chat = [pe.stem(word) for word in chat if not word in set(all_stopword)]\n",
    "                ## for every word in chats we check if the word not in stopword if yes then\n",
    "                ## using porterstemmer we apply stemming if no then we drop the word\n",
    "    chat = \" \".join(chat)\n",
    "    corpus.append(chat)"
   ]
  },
  {
   "cell_type": "code",
   "execution_count": 11,
   "metadata": {},
   "outputs": [
    {
     "data": {
      "text/plain": "['buse approach place highli unsaf',\n 'man comment',\n 'share auto',\n 'come club night friend guy came stop us ask quotkya rate hai quot shoo away kept follow us',\n 'one friend molest crowd happen bridg thane railway station',\n 'travel metro head colleg guy stand next tri come closer even gave indec look',\n 'guy masturb roadsid ogl bu touch inapproprait',\n 'travel red line metro guy continu stare give fli kiss weird facial express afternoon time',\n 'late even around pm shop market south extn local delhi tri look auto go back home traffic peak could not get start walk toward flyover hope would get one point patch littl desert lot traffic mysteri lot pass vehicl start slow near ask direct vehicl realiz vehicl singl men drive big car well educ men big car see woman walk road alon could think two thing quotsh hookerquot alon therefor quotavailablequot felt sick vulner',\n 'week morn found take dog walk milkman bike would follow time tri talk felt extrem uncomfort went home tear continu week one care stop man not father interven stop wish someon wit help',\n 'happen afternoon metro uncomfort peopl around oblivi',\n 'peopl seem friendli kept follow simpli tri initi convrsat',\n 'know girl grope dda park men loiter one came help',\n 'harass',\n 'girl pass men start call follow',\n 'self explanatori',\n 'guy usual click pictur friend happen even',\n 'person took advantag crowd stand behind',\n 'friend go market one boy comment outlook',\n 'auto wallah stop midway ask us lift leg clean someth seat thu tri touch us',\n 'walk upstair bridg dadar station man age touch back felt turn around slap',\n 'realli bad',\n 'may studi th grope midag man along frnd collect money raffl help age india ask shopkeep whether could help us sent frnd shop next us chang held back terrifi amp beg leav shout quotuncl pl uncl pl leav mequot forc fulli push amp ran life mani incid happen worst serious woman secur day',\n 'happen year ago use go iit coach thane lectur take train back home thane station approx pm daili man use come stand behind want reveal later kick person',\n 'return home group men start comment',\n 'strang look man follow victim coach institut home',\n 'even went visit friend two guy start whistl',\n 'travel bu friend man stand besid us tri touch friend comment',\n 'expos bodi part',\n 'boy teas go uncl hous',\n 'home alon father mother brother gone wed late night father call room made sit start touch breast froze ask daughter told father rape continu night feel shame despit told mother next day told lost mind dare say someth like father know feel like die hous balaji chowk',\n 'young girl year rape stepfath year mother gone work',\n 'group boy teas sister return shop',\n 'year back bu form delhi dharamsala ticket seller put women togeth buse end next guy twenti middl night woke took hand masturb peni pant start hit fell hit much let sit next girl bu peopl kept sleep one help',\n 'harass ill treat',\n 'guy stalk girl',\n 'year old boy return school home girl tri touch privat thing',\n 'experi walk road',\n 'someon pass comment near hanuman templ',\n 'man thought prostitut offer money one night',\n 'pupil st john primari school silanga forc boy silanga taken bush nairobi dam sexual abus',\n 'walk car desert park lot boy grab behind amp unspeak thingsnight pm',\n 'bu driver drive scooter shout made embarrass say slowli drive',\n 'friend travel public vehicl one man came us start flirt even tri kiss friend scari',\n 'harass afternoon',\n 'touch ogl',\n 'chain snatch comment ogl even time area common',\n 'man whistl friend go shop',\n 'random guy click pictur friend return home dinner',\n 'young girl influenc friend school drop outsto watch ponograph film',\n 'harass',\n 'men bike made obscen comment friend could not react',\n 'girl pass whistl',\n 'stuck crowd tri take advantag',\n 'realli bad',\n 'three boy tri sexual abus friend',\n 'man intent touch chest walk toward shop',\n 'sexual harass friend mine sexual harass anoth student one day school guy call ask walk around school compound accept not know want sex hidden part school got start talk sex tri undress',\n 'one famili friend abus sexual famili member age delhi punjab',\n 'harras',\n 'guy tring speak foolow friend make sign ran start shout',\n 'hot summer day june go back tution class bicycl suddenli one man pate back guy told suno dekho look back confid someon call gestur may known soon look back man told b show peni see see hold afraid moment not abl recogn happen know frm energi came rode bicycl fast stop home km away place incid till incid sometim come dream frighten',\n 'friend juic shop notic two guy bike stare us later even follow us left kept roam around got tire left',\n 'teas time buse teas harass transgned',\n 'stay night hotel dharamsala close bu termin hotel clerk show room forc doorway refus leav began say inappropri thing would not leav ask becam scare yell leav room final push not sleep entir night slept tabl push door',\n 'eve teas random roadi girl happen even',\n 'uncl home sister way group boy whistl follow us scari ran destin feel',\n 'bu',\n 'way back home travel bu boy comment abus',\n 'mobil phone stolen boy bike ran away without see whether hurt girl',\n 'touch inappropri',\n 'man tri touch insid bu',\n 'physic abus public vehicl',\n 'street light lone road',\n 'walk toward home market someon made rude omment',\n 'even guy ask way noida somehow tri talk take',\n 'usual travel train hometown alway face harass station',\n 'girl rape recent guard bribe night not safe',\n 'bu mother sit opposit man sat next mom man start stare talk ask number address mother scold',\n 'survey carri safec red dot foundat along safec audit street market mumbai',\n 'incid took place afternoon peopl pass inappropri comment friend whistl unpleas uncomfort',\n 'come matern uncl home even ask boy quot come quot',\n 'boy touch rear part friend trade fair',\n 'guy stare make uncomfort',\n 'guy snatch chain bike happen morn',\n 'man touch butt travel bu',\n 'guy use abus filthi languag pass happen afternoon',\n 'descript',\n 'comment pass leav home alon',\n 'man whistl',\n 'whistl comment',\n 'year old girl left alon hous mother gone market man came rape',\n 'one friend sexual harass walk street man felt',\n 'catcal whistl take pictur',\n 'man stop outsid colleg ask girl sit bike',\n 'misbehav',\n 'sexual abus achild four year man call child arriv infront abandon hous took insid harass',\n 'man tri grab public',\n 'happen brother th june arriv late yaound way buea pm bu station douala sinc vehicl time thief harass took away money phone etc',\n 'friend mine ask way place stranger car suddenli ask look nake',\n 'go colleg group boyz comment',\n 'teacher beat pupil buttock',\n 'foreign travel bu bangalor man sit behind touch bum seat masturb',\n 'certain ladi dancer beaten unkown men club left half nake peopl start comment',\n 'go market boy came bike tri touch privat part',\n 'yearold widow allegedli rape tuesday night two unidentifi peopl even male colleagu strip beaten mercilessli polic said wednesday unjha polic offici said woman man talk sit vehicl two men arriv twowheel threaten woman colleagu knife duo allegedli strip man beat polic said ad one two assault tie woman hand leg sari took turn allegedli rape',\n 'male peopl usal stare girl wear short dress',\n 'whistl men roam bike',\n 'sister friend attack rape way home friend hous near balnawa hotel bu stop afraid report polic',\n 'pm outer area greater noida unsaf',\n 'mother chain snatch near hous men thought knew report polic blame wear gold',\n 'wit chain snatch abus situat wherein woman push away verbal abus also chain snatch ran away anybodi could stop',\n 'brother friend teas peopl walk main street like',\n 'known man long time famili friend th even home alon forc',\n 'someon travel frequent even unknown place alway consciou surround even delhi rape incid ive face innumer instanc sexual harass much hate admit start get use one incid realli stay memori still rememb face smile incid happen six month ago mid get home earli dinner pm took rickshaw back lokhandwala travel five minut soon got rickshaw two men bike nearbi start follow rickshaw hoot catcal tri best ignor obvious make feel uncomfort could final couldnt take anymor look straight eye gave deathlook respond leer give lecher smile ever seen still give chill rememb incid',\n 'live mumbai month shop along colaba causeway man grab bum talk salesman turn around elbow back shout didnt budg kept walk like everyon els noth els',\n 'ill manner behaviour bu n metro',\n 'best bu',\n 'dad come pub come home beat mum sex watch sleep houe ith',\n 'intent inappropri touch',\n 'report experi friend walk bu stand everi morn catch morn bu offic way often come across middl age men ogl women time occasion budg elbow tri touch pleas avoid walk pavement',\n 'guy scooter',\n 'freind sit one guy first look us start take pictur',\n 'boy bike whistl',\n 'comment touch grope',\n 'live far school come school boy teas made uncomfort depress',\n 'make comment make nonsens facial express',\n 'follow',\n 'harass',\n 'man wallk girl greet hand refus let go start rub suggest look suspici girl took toward main road leav man click',\n 'bu man sit front tri click pictur mobil phone ladi sit next shout see',\n 'get station guy push bodi tri touch indec',\n 'bu year ago seat next occupi man tri touch thigh everi utterli horrifi one moment actual grab thigh rais voic bu crowd bu travel juhu andheri west',\n 'random guy comment left',\n 'bu man grope',\n 'walk cousin road mani men stare small sister around ignor walk along act like never happen',\n 'travel dtc bu colleg hour even face stupid comment',\n 'man whistl',\n 'men stalk amp abus girl',\n 'month ago touch public area way colleg look behind person alreadi fled away',\n 'take pictur',\n 'stalk ogl',\n 'shown indec gestur',\n 'micro bu seat stand conductor touch back unusu',\n 'street ill lit infam huge group peopl two wheeler pose threat peopl walk',\n 'similar incid happen bandra station grope man tri climb stair bandra west grope mingl crowd',\n 'harass',\n 'move along street boy start assult facial express begin got repli start use verbal mean whe still not get repli stare comment quot ohh beauti girl like dumb deafquot',\n 'man constantli stare give cheap express train goa delhi',\n 'three men tell follow home ran away',\n 'misbehav',\n 'boy comment scooti',\n 'went toi market shop businessman forc sex shout help',\n 'notori especi beggar ladi gent could aggress beg solicitonc got harass black giant ladi kept insist person detail kept mock languag appear etc minut final got rid walk locat time old beggar also make lot nuisanc cigarett money though not much ladi',\n 'afternoon guy continu stare budg even though warn',\n 'incid took place afternoon mother person start comment want scooti ride',\n 'whistl call assum',\n 'boy comment ass drop friend',\n 'man seen squeez girl corner forc touch',\n 'near school look inappropri manner',\n 'boy outsid sunday market made sexual invit toward friend even follow certain distanc disappear friend ignor common area',\n 'group guy whistl beach',\n 'two boy take pic girl bu stand',\n 'happen morn',\n 'stand corner road flower seller make unusu express felt bit weird move away quickli',\n 'catcal touch comment chain snatch afternoon',\n 'travel train delhi bhopal one guy sit upper berth gave indec look whistl make face',\n 'happen morn happen week',\n 'whistl comment unwant thing walk road',\n 'go church friend otiend guy stood fronth show us peni',\n 'one girl know sexual harass use go best friend home mostli notic best friend cousin girl know intent alway consid brother one day brother call girl say best friend sick reach home soon reach home nobodi home except brother serv glass juic went unconsci rape',\n 'cross road car boy cross realli close hit stand footpath',\n 'teas go watch movi',\n 'boy time',\n 'salon hair salonist busi watch porn loud speaker even imit sound style',\n 'poor street light area',\n 'boy touch face',\n 'comment tea stall owner outsid colleg',\n 'follow catcal',\n 'realli bad',\n 'pass man remov trouser show peopl privat part',\n 'lost wallett night',\n 'bunch guy kept star min thu make feel uncomfort',\n 'met men way school start talk say beauti good breast',\n 'comment touch bu even',\n 'rape man infect hiv aid',\n 'third person touh money',\n 'go colleg fir exam man bike call show privat part shout immedi ran away',\n 'threaten make inappropri convers threaten one happen afternoon',\n 'one known girl told folloewd one boy last mint help',\n 'boy bike start comment',\n 'one coupl walk road near polic station one stranger guy mistak push boyfriend fight girlfriend lie polic stranger sexual harass polic punish stranger',\n 'even boy comment',\n 'go master class student pass comment amp stare way make us uncomfort',\n 'take pictur',\n 'happen near bu stop men start harass friend',\n 'comment',\n 'walk bu park area man look porter comment',\n 'happen almost everywher',\n 'stalk follow till home tution even hour',\n 'man follow comment cloth walk continu walk ahead',\n 'call sexual invit even creepi person',\n 'involv attemp rape sent buy food road side man stop touch',\n 'guy stare teas boudha stranger',\n 'colleagu offic use stare',\n 'young lawyer commut crowd buse push grope hate travel buse',\n 'men stand near truck shed behind main road petrol pump abus women get drunk even comment women pass area stop use road',\n 'afternoon travel gener compart continu touch',\n 'friend go friend hous follow stranger',\n 'one sentiment echo visual challeng women feel unsaf travel handicap compart local train men often tri touch us inappropri glad atleast websit express bad feel toward sexual harass face almost everyday travel local train mumbai',\n 'visit jain templ palitana wander rest companion take pictur guard follow one dark inner templ grab breast panick push ran away quickli report incid shock',\n 'mother follow sexual harass man took dog walk',\n 'two young boy whistl girl go back work',\n 'realli bad',\n 'harass almost everywher',\n 'mother chain snatch crowd market one came forward help',\n 'man touch wrong way',\n 'notic guy follow metro station coloni entranc scare know tell home blame',\n 'follow school boy sanjay camp',\n 'repeatedli call bayot pedicab driver week',\n 'man made touch privat elev',\n 'follow man hospit',\n 'boy stand outsid school stare pass lewd comment us happen almost everyday school hastsal',\n 'teas random men',\n 'even hour girl verbal assault guy',\n 'report submit safewatch',\n 'teacher beat girl buttock',\n 'walk road area guy tri chase follow',\n 'sit bu person sit besid touch waist get know intent slap tightli twice neck went move bu',\n 'guy alway teas girl especi morn hour act innoc complaint regist',\n 'friend follow men',\n 'comment whistl local boy',\n 'helpless',\n 'comment pass continu happen even',\n 'comment common',\n 'group boy comment tri disturb possibl way',\n 'stalk comment',\n 'man eve teas compart',\n 'metro guy continu stare amp make uncomfort',\n 'helloi frequent travel mumbai local train like mumbai women take harbour line train goe mahim cst seen mani time pm train get empti presenc rpf personnel railway look increas secur rout',\n 'go institut two boy comment stalk day',\n 'one day group boy wear sing song girl raoad n girl feel same n ran fast',\n 'boy catcal whistl comment',\n 'two young guy stalk busi road',\n 'rape men wed attend lock room left never muster courag tell anyon wed near balaji chowk',\n 'women harass',\n 'go class morn boy corner side road walk toward show genit felt awkward know react',\n 'friend got indec proposit quotwhat appquot person known meet park',\n 'availabilti street light unsaf women even day light',\n 'men alway ogl us',\n 'bunch men comment touch friend',\n 'road bad pass given got irrit ignor thereaft',\n '',\n 'one boy bu indec exposur felt uncomfort',\n 'night man click pictur friend follow us till bandra',\n 'two guy motorcycl snatch chain woman',\n 'guy comment',\n 'chain snatch comment touch even',\n 'guy made gestur',\n 'happen friend around month back way colleg morn boy comment',\n 'sit wait hall wait train arriv boy sit opposit gave certain vulgar express',\n 'teacher beat student',\n 'subject touch grope variou time mylapor mandav area around pm even near c p ramaswami rd man bike grope butt within next one week type incid took place dr ranga road area around nageshwara park also not safe girl walk get dark girl subject lot catcal comment one incid never forget chitrakulam north street mylapor guy actual forc kiss not even th standard',\n 'man follow evrywher evrytim peopl say mad suspect',\n 'guy whistl make indec comment',\n 'men follow school upto hous told take away',\n 'walk old man touch back inappropri place',\n 'harass',\n 'receiv messag whatsapp today unknown number ask person identifi guy say saw bank cr park pick number form submit bank said colleg student want speak send pictur random messag call quotdearquot etc respond messag one messag identifi freaki goto bank almost everi day know person',\n 'misbehav',\n 'misbehav',\n 'main junction gandhipuram lead cross cut road one busiest road coimbator lot femal friend said touch inappropri cross junction',\n 'return colleg guy follow ask number gave still tri touch cri loudli went away',\n 'walk go market boy follow slap butt ran leav embarass',\n 'one fren go shop saw mani group boy boy tach girl alon n scare frm n save',\n 'saw street boy harass girl seem scare run avoid help scold street boy',\n 'boy comment morn',\n 'one boy tri touch bublic transport',\n 'pass narrow path get cyber caf bu terminu man stand entranc put big headphon stare undtil becam uncomfort excus pass ogl said quotkaribu mremboquot mean quotwelcom beautifulquot',\n 'men touch grope',\n 'noon time want go wadala dadar stand roadsid wait taxi come five garden area one man bike came closer ask road petrifi see zip open erect peni scream start run scari annoy experi',\n 'catcal comment ogl touch afternoon',\n 'catcal whistl',\n 'guy wear take pictur friend',\n 'went friend toward rajiv chowk metro boy initi follow us till destin afterward park one boy group came hold hand forc',\n 'three boy comment say beauti start laugh',\n 'dark area near metro station regular incid sexual harass take place',\n 'take pictur',\n 'rain heavili vehicl bu station person car stop stage driver told two girl board car taken karura forest rape',\n 'comment stalk',\n 'woman get onto train',\n 'man kept hand shoulder',\n 'one night went school near hous read return home met boy tri court show interest grab tri rape thank god passerbi rescu',\n 'travel crowd public bu one man push back even ask stop later touch back continu stop bu walk',\n 'sit bu stop everi singl day bu quit desert peopl mani time men come bike jeer cat call make horribl sexual remakrk guy rode bike start take pictur duck recent walk even around not quotlatequot span minut two auto driver drove middl full traffic made disgust remark',\n 'incid took place go home dwarka saw two boy comment take pictur girl',\n 'show bad facial express boy show bad rough kind express',\n 'morn stand bu stop guy stare unappropri manner tri touch hand part',\n 'boy comment disturb',\n 'exam reach busstop boy charg face express',\n 'boy tri take breast pictur',\n 'boy school send obscen messag sleep follow',\n 'boy touch ladi',\n 'awkwardli spoke',\n 'harass',\n 'girl nearli yr old come job borivali railway station store keeper stalk',\n 'morn lost wallet',\n 'comment pictur taken even',\n 'man beat littl girl brutal',\n 'bad street light sohna gurgaon highway',\n 'walk home ftom school guy cycl come toward hit chest come back tri run fail twice',\n 'metro total unsaf girl travel metro boy intent take pictur girl pass comment wit mostli pm coach time',\n 'call name group guy neymol stupa leh',\n 'go flat boy kamla nagar make group comment girl physiqu happen afternoon',\n 'subject catcal',\n 'touch inappropri touch watchman',\n 'go back place visit friend go ticket counter way goon kind peopl sit bike pass comment us',\n 'saw young man harras school girl touch bodi',\n 'cheap peopl pass comment stare attempt grope',\n 'friend go colleg comment boy stand happen hii block madangir',\n 'comment amp chain snatch',\n 'hang friend bunch guy start catcal us',\n 'middl age man alway sit neighbourhood alway shout name pass road',\n 'need go polic station file case famili matter took auto rickshaw front hous went hous goup peopl sit stand person stop auto rickshaw place group rickshaw stand one poke finger back get rickshaw person taken auto rickshaw sexual harass kollam hospit father took auto richshaw twice also open door need chang cloth scan not complaint bec wish public imag went near stand father told wait till came told father person not right let take auto rickshaw not give fee get near not good condit expos privat part wear condom cannot recogn bec poor vision also blurr vision even spectacl fit never think even father would done exploit',\n 'one night come back home famili middl street one boy use abus word sister famili took action sister felt un easi',\n 'uncl shop tri rub privat bodi',\n 'around month back boy follow afternoon',\n 'kalyan maharashtra sunday th jan',\n 'age yearstyp harassmenttak pictur picnic day time',\n 'one friend purpos reject blackmail tortur send letter written blood',\n 'even pass nithari guy start comment make weird facial express',\n 'boy tri pull car',\n 'men seat next railway line opposit human need centr kept call one teenag girl pass sex',\n 'constant comment stare metro station even night',\n 'take bu andheri ghatkopar though sit ladi seat get bu men actual touch tri lean mani women think best conductor bu allow women get specif door men door end bu atleast keep strict vigil passeng get bu',\n 'guy made foul comment',\n 'live apart balconi overlook small side road small empti plot alongsid sideroad like step balconi morn enjoy cup tea morn roughli around ish quotgentlemanquot arriv scooter goe empti plot drop pant start masturb guess someon one outsid balconi unabl enjoy morn beauti balconi derang person take child park crowd front icecream stand men age mostli late teen brush women quit innocu walk back alon even everi chanc group boy decid harmless fun walk behind comment intimid trivandrum not great place live',\n 'friend teas bunch men',\n 'travel bu way alibaug place sit stand other final got small space next man sit sat tire man touch intent wrong way final chang posit',\n 'roam friend guy follow us made weird face afternoon hour',\n 'go gym guy comment',\n 'comment passer arround walk street',\n 'alcohol shop local group boy resid banganga stare girl walk back home mental harass around everyday pm night',\n 'road go market met group boy way start touch',\n 'walk back home friend hous pm follow guy bike pass weird comment ignor walk fastli stop bike front caught hand push away ran hous',\n 'group student young boy make indec comment cloth took place even afternoon',\n 'studi class one teacher propos ill intent although marri told mom report princip later school took action fire',\n 'group young guy comment group girl parent happen night',\n 'man misbehav market one help',\n 'there boy want girlfriend refus one day pass approach told gotten anoth girl beauti',\n 'whistl kiss action',\n 'go friend place boy street start follow us sing obscen song friend turn back shout laugh us first went away',\n 'harass',\n 'come back hometown afternoon touch ass random guy',\n 'pass comment catcal indec exposur touch privat part',\n 'boy whistl stare friend roam around',\n 'metro station shown bad gestur ignor',\n 'harass byculla station',\n 'touch grope comment ogl sexual invit',\n 'happen afternon even night',\n 'guy misbehav ogl stare',\n 'guy masturb car clearli make show happen afternoon hour',\n 'pinch butt',\n 'friend walk crowd station man pass spank hard butt got terrifi ran away',\n 'catcal whistl comment ogl facial express take pictur touch grope',\n 'comment ogl touch sexual invit',\n 'walk across platform enough space walk past well suit man touch breast walk past even realis charni road station platform',\n 'friend go area suddenli boy car intentionli ask us free join ride',\n 'guy tri follow',\n 'guy tri talk unnecessari bu',\n 'bad light area',\n 'one good friend even though not go school told seen girl love girl keep deni propos date time told not girl one els would one fate night went caught girl come back even studi rape uncomplet build',\n 'misbehav',\n 'old man held wrist forcibl tri forc ran away happen even balaji chowk',\n 'one male employe rape work hour guy taken away fake polic offic intent interrog taken away outskirt citi rape gunpoint',\n 'victim sexual harass walk road man bike hit hip badli went away',\n 'constantli stare happen sever occass',\n 'follow',\n 'man pass train squeez breast train slow',\n 'harass',\n 'whistl back',\n 'pull amp hold kiss grope',\n 'guy take pictur without permiss',\n 'man came push touch chest tightli',\n 'go terrac build exercis everi morn build away one guy keep stare wave hand look realli ignor first thought binocular hand get close look mine know handl realli hurri finish work start day pleas guid suggest done',\n 'girl rape recent guard also bribe night not safe',\n 'young lawyer commut crowd buse use push around grope realli hard experi start hate travel buse',\n 'buse peopl tri touch',\n 'saw guy call girl sexual pleasur whistl comment also happen even',\n 'neighbour mine serious beaten class six refus sex classmat',\n 'stay kurnool c camp one back one guy frequintli call say im ur lover u wise u see guy u murderd u k dn get sir help studi prblmed guy pl help sir woreest guy societi',\n 'not singl reason',\n 'saw girl harass boy travellin bu pokhara boy whistl girl sing song',\n 'comment way',\n 'subject cheap comment song travel public place even',\n 'two girl teas flirt group stranger road',\n 'misbehav',\n 'misbehav',\n 'come shop man sell electron urin railway line call look ignor report mum warn not listen',\n 'go grandpar home train person tri take pictur',\n 'drunk boy tri bulli girl',\n 'guy use bad languag girl happen afternoon',\n 'friend surround boy annd could not escap metro station aunti interven rescu',\n 'boy held hand',\n 'due poor street light group boy comment stalk girl',\n 'physic abus hold breast insid bu nobodi anyth help pain',\n 'moira coutorim road',\n 'throw water ballon dirti water girl holi target privat part',\n 'incid took place afternoon hour area fill pathet peopl',\n 'eveteas whistl comment',\n 'incid took place afternoon lajpat nagar market group guy take pictur group girl someth marker',\n 'eve teas',\n 'neighbor want sex noon home come show differ gestur',\n 'group guy comment come back colleg',\n 'guy comment slap one',\n 'group guy behav badli girl sit ladi compart metro happen afternoon',\n 'hoard boy surround made difficult pass walk',\n 'stand two friend societi notic boy continu stare us suddenli notic not wear pant us ran away',\n 'comment cloth',\n 'continu stare bad way afternoon',\n 'guy block way back home gave dirti look ask name',\n 'sent shop approach shop saw man touch girl breast',\n 'feel uncomfort peopl smoke bidi cigarett footpath',\n 'regular even walk guy start follow start click pictur pass inappropri comment',\n 'friend went nearbi societi meet friend comment man walk not accept abl',\n 'one day go shop saw boy laught look wonder laugh boy approach start remov cloth screem loudli rescu passersbi',\n 'guy weer comment',\n 'men bike made sexual invit toward broad day light peopl around bu stop one stop blame lal kuan unsaf like live',\n 'catcal',\n 'incid took place kishan ganj railway platform afternoon boy stare girl continu make face pass comment',\n 'group boy comment',\n 'friend went visit mutini memori near north campu afternoon guy came near us made inappropri indec comment',\n 'particular place first time wait hail cab almost everi man street start act like kind kinki thing not human whistl comment pictur taken bodi humili bad day measur need taken make area safe women travel',\n 'feel unsaf travel alon incid happen',\n 'harass metro feeder bu',\n 'go shop found two boy way call refus start chase',\n 'friend tuition teacher use touch ask come hous alon',\n 'stand bandra station wear red sleeveless top men arriv train whistl stare comment shirt figur',\n 'survey carri safec red dot foundat along safeti audit street market mumbai',\n 'walk road group boy teas girl pass whistl sing song teas girl',\n 'along three friend return parti two boy teas us sing comment us ignor follow us one even pull friend hair carri brick road threaten',\n 'boy comment metro',\n 'year old girl play templ friend time disappear hour got rape',\n 'stay sindhi coloni sion west opposit old sie colleg notic middl age look beggar lungi stand footpath near sie colleg sing kawwali someth week back saw stand footpath sie colleg sing actual tri block group girl hand sing like student complain colleg secur anyon see guy first time could pass madman seen move sing opposit footpath colleg near colleg gate hope action taken untoward incid happen',\n 'girl deep asleep room pm unknown person enter rape report morn man threaten knife',\n 'sister physic abus street boy',\n 'touch indec exposur',\n 'walk two friend man men seat soweto bridg call us refus start insult us tell us bad appear like grandpar',\n 'guy misbehav pass loos comment',\n 'cat call comment pictur taken',\n 'peopl especi boy gaze comment road gener ignor becom height',\n 'public transport girl misbehav boy',\n 'obsev mani antisoci element like peopl use place loo smoke drink etc',\n 'year old child maid man use harrass repeatedli final rape',\n 'come north campu metro stare man brush elbow breast',\n 'teacher beat student',\n 'incid took place gtb metro station inn even board vehicl guy take advantag crowd tri grope',\n 'happen delhi metro morn indec guy sing song behav rogu whisper someth ear touch slightli want rais voic of next station',\n 'come back home nearbi gener store rain heavili not crowd random guy ask umbrella tri snatch fled',\n 'go school someon comment indec thing victim also stalk later',\n 'colleg road travel km distanc take auto meanwhil two peopl car came close ask address suddenli start drag insid car start shout peopl nearbi came peopl ran away',\n 'happen metro guy middl age annoy',\n 'realli bad',\n 'touch grope work platform',\n 'assult year old girl year old man sunday morn bomaka littl gir sent mother buy bread market way neighbour yr call girl forc bed until child could not even breath faint later girl told stori arrest',\n 'sexual invit hoot',\n 'comment',\n 'man click pictur sister thane station',\n 'bu conductor comment vulgar manner',\n 'bu travel panvel sion st bu guy rub peni hand sit busi talk friend took sometim realis happen start shake uncomfort went away',\n 'touch comment',\n 'bu sister notic guy constantli stare us make indec gestur',\n 'group friend gone shop one friend group abus stranger',\n 'outsid zakir hussain colleg stare talk among happen afternoon around pm',\n 'comment',\n 'guy continu whistl girl',\n 'cross road rain quit heavili man leer long time pass lewd comment gi breath',\n 'walk past tea stall whistl',\n 'mobil snatch five bangali time around jhangir puri delhi happen middl block street jahangir puri surgic instrument hit left hand snatch mobil inspit snatch mobil tri snatch wallet thank allah taala wallet safe due two youngster came immedi protect run bangali ran away apart two youngster nobodi came help watch like entertain report fir incid jahangir puri polic station write fir mobil snatch forc made write fir mobil miss inspit happen policemen go investig three day not got mobil till three day saw bangali visit fearlessli mobil snatch care jahangir puri wasio',\n 'grope man walk past husband',\n 'boy continu stare',\n 'invit sit car four men',\n 'travel metro liter life anoth day got metro group boy also board stood right behind could hear make comment vulgar sign finger look made realli uncomfort rais voic manhandl one luckili anoth guy help brush that enough',\n 'five men sit group start take pictur',\n 'night guy actual tri show isyetail',\n 'person tri touch privat part',\n 'ladi walk makina wear short dress men start mock without even sympathi say walk nake tather thatn wear short dress show peopl thing',\n 'catcal ogl night',\n 'not feel station',\n 'face almost everyday whenev go nani place',\n 'walk street one day saw group boy one made attempt tri talk relationship refus tri forc thank god cri help',\n 'male intox femal took cloth proceed assault graduat student not america target younger femal',\n 'walk even guy car group start shout whistl',\n 'took taxi borivali station east thane reach ask night fare even day time ask rs toll although paid toll use name avoid toll import gave note quickli exchang one rs note said provid inr read incid mani time knew fraud check found claim correct intervent secur guard taxi driver went away bad note taxi number maruti van',\n 'indec exposur',\n 'night auto rikshaw driver comment',\n 'guy stear sing wierd song',\n 'boy stand orner start tell bad thing dress appear',\n 'harass morn',\n 'get train station man taken crowd advantag touch although turn around make',\n 'ill treat',\n 'group girl ran away thi realiz follow men bad intent call whistl',\n 'friend harass three time jnu',\n 'group guy comment friend near chadnichowk even',\n 'group pupil go home school met man nake corner tri call ran away',\n 'man pull woman build touch wrong place',\n 'way home boy teas pass comment',\n 'neighbour sent girl age buy milk way back man caught hand told go curtain girl shout man left ran neighbour hous told stori stori catch fire man disappear',\n 'even hour around pm thought slut guy came ask charg abus',\n 'guy misbehav',\n 'lone road',\n 'walk toward bandra gymkhana mont park road th august independ day around pm grope biker rode grab butt look back smirk rode past walk road footpath uneven could not get licens plate light dim frequent event road alm alreadi ask better light bmc not cooper',\n 'night walk alon highway one gang bad boy start teas honest short scare even get courag look face ran start follow amp suddenli enter someon hous amp thought hous return back way',\n 'mani kind harass face everyday life local boy pass comment face dress that realli piss',\n 'sat felt hand bodi',\n 'go school group boy comment tri collid ran away',\n 'boy like stare school girl alway comment look sometim say school girl cute boob good behind',\n 'group boy whistl said bad word',\n 'roadsid vendor peopl present market mostli behav indec way',\n 'poor light street',\n 'metro station much rush girl help boy touch privat part',\n 'guy tri touch privat part friend near hous vika puri',\n 'not feel safe crowd station train lot touch push',\n 'accost ask give money theytri grab wallet resist bogu policemen show took culprit away',\n 'head home stranger spank pass not done anyth wrong felt bad couldnt anyth',\n 'wistl street tri diss street click pictur tri hold hand',\n 'selfexplanatori',\n 'inappropri touch public transport like metro',\n 'pass railwi line came acroo two men one lick ice cream ask ice one comment good would look ice cream',\n 'go toilet complex stare men stand strip eye not first time happen happen almost alway dread time day',\n 'group men brought two high school girl hous rape tri scream beaten',\n 'two guy follow car kept comment',\n 'girl rape cousin came visit hous',\n 'friend call saturday come hous watch porn parent not around',\n 'go home guy start show part afternoon',\n 'random fb sexual request comment cat call lane',\n 'walk road man suspici alway around till cross road came closer could say anyth scream disappear',\n 'chatpat vendor rape four year old girl',\n 'follow ask kiss happen even last day',\n 'ladi shop purs hand taken away two men bike',\n 'market tot mall',\n 'follow n touch boy',\n 'wait someon outsid restaur boy came kept ask thing stare',\n 'masturb public',\n 'man follow friend return colleg',\n 'month ago one girl walk strret boudha n guy whistl girl n feel uncomfortbl ran fast frm thre',\n 'two individu ask direct jaynagar explain rout saw shadow behind turn struck face hit back realis larg knife decid run scream help arm outnumb manag scare littl scream loudli sustain injuri head face',\n 'catcal whistl chain snatch amp comment punjabi bagh',\n 'one day woman whistl abus stupid want beat shout help',\n 'walk home alon work today guy look day older year wink lecher say sure thought mostseduct voic kahaan ja rahi ho chamiya shock offend also bit amus justpostpubesc boy nerv blatantli jerklik',\n 'catcal delhi metro even',\n 'girl wa chase follow sever boy around legion maria church area way shop around pm',\n 'come back tuition guy start follow walk fast reach home',\n 'realli terribl',\n 'man forc press n woman breast crowd bu',\n 'wait taxi outsid lilavati hospit around pm friday even man motorcycl slow front grope breast harshli drove away could push similar incid reappear friend anoth weekday around pm area motorcyclist pleas map inform women n girl travel area vigil',\n 'boy seat carwash made funni face whistl comment pass',\n 'man pee bridg daylight view everyon',\n 'touch grope even',\n 'night wallet stolen',\n 'walk alon guy show peni drive scooti',\n 'holi season go school boy intent hit quotlollasquot know ballon fill water due soak',\n 'travel bu picnic saw one girl sit infront side girl one boy sit boy first comment girl tri touch girl scare donot went home fastli stop bu go',\n 'survey carri safec red dot foundat along safeti audit street market mumbai',\n 'harass',\n 'woman child went file miss complaint cell phone polic inspector tri assault insult look wrong way gave statement like quotb safe world good anyth happen etc quot give idea could even gestur made uncomfort happen kapurbawdi polic station thane',\n 'pedicab cyclist harass companion sleazi ingat po mam balik po kayo',\n 'driver sit pavement made pass ladi intern',\n 'whenev stand bu stop guy come touch noth',\n 'misbehav',\n 'ogl comment',\n 'friend return home colleg scooti microbu came speed conductor driver whistl comment us',\n 'thane realli busi station henc staircas alway pack peopl come go one day get catch train random guy tri touch hip object immedi',\n 'teas street return pg even',\n 'friend mine travel metro stalk boy',\n 'comment',\n 'biker troubl woman goo work especi near metro station',\n 'friend went fun african shrine guy start touch harass us ran outsid follow sexual assault rape nobodi could assist us never went',\n 'happen know girlfriend molest sulthanpalya atmananda coloni local idiot head back groceri shop alon idiot taken advantag fell drainag got bruis even though idiot educ happen believ help improv india naresh',\n 'chain snatch front aunt hous',\n 'one guy alway jamal use whistl teas us tri follow us well',\n 'walk stair senior colleg comment tri touch privat part took place afternoon',\n 'whistl girl afternoon pass',\n 'follow comment',\n 'girl stuck even broken car guy approach pretend help happen worst nightmar girl could see',\n 'survey carri safec red dot foundat along safec audit street market mumbai',\n 'harass',\n 'go tution boy comment',\n 'teacher inform school kibera insert finger girl privat part happen time said charact',\n 'travel bu old man sat next touch sensibl part scold drop bu',\n 'group peopl whistl friend',\n 'go catch colleg bu morn hour park small shortcut main road decid take suddenli man pee far distanc start approach toward speed avoid suddenli start pass comment ask sex strang alway made sure compani cross park',\n 'night guy touch nad start shout ran away',\n 'even hour two guy stop car start comment vulgar way ask lift etc',\n 'group boy comment happen afternoon',\n 'nagarjuna school ground near tent hous vanasthalipuram hyderabad',\n 'proper light',\n 'travel metro head colleg guy next tri come closer even gave indec look',\n 'bodaboda guy station near ushirika clinic call ladi refus use bodaboda start tell boast alreadi given herselv men hood',\n 'ogl grope',\n 'verbal abus indec languag behavior',\n 'friend come back school night group guy came harass sexual',\n 'follow could leav hous someon accompani',\n 'saw girl teas catcal group boy',\n 'sister go market boy start whistl sister also block way sister abus lot happen afternoon month',\n 'friend rob gang local boy return rel hous',\n 'group guy stare girl street light campu',\n 'friend mine abus comment upon guy not respond tri touch',\n 'feel insecur mehdipatnam bu stop saw young even elder men intent roam bu stop touch young girl',\n 'tihar festiv deusi bhailo group return home group girl teas us bad word',\n 'guy take friend auto kidnap sort girl rescu even',\n 'harass',\n 'catcal comment ogl touch night',\n 'bad experi',\n 'metro crowd amp hold two bag man tri touch genit',\n 'bu',\n 'comment masjid moth night',\n 'extrem dark road walk absolut alon must carri pepperspray hand walk even catch autorickshaw biker catcallwhistl relentlessli',\n 'physic abus restroom',\n 'stare',\n 'bu conductor rub bodi mine go around ticket',\n 'comment stalk',\n 'kurla station dimli lit unsaf',\n 'friend spend time finish exam guy took pictur',\n 'took place mimirka station around night guy took advantag saw girl station tri snatch chain forc',\n 'mother go market',\n 'wear skirt board local train guy stuck hand skirt held bum froze held hand pull train crowd find perpetr',\n 'gang boy comment girl near platform happen night',\n 'guy use follow everyday colleg till end road week till chang rout',\n 'someon pass remark quotyou look beautifulquot inappropri',\n 'stand outsid colleg boy stand opposit us talk among saw us start stare us',\n 'follow home block pm harass whole way rude word though gone bur got front hous ran behind cream pull pant start masturb infront',\n 'afternoon time go visit aunt way group boy smoke pass start whistl comment colour bag pant scari make uncomfort',\n 'two male student nearbi recogn old school knew commun via gestur use univers gestur quotcal mequot quotsuckquot quickli enter colleg away go colleg definit neighbor colleg',\n 'night comment upon unnecessarili',\n 'comment indec exposur',\n 'one day one girl come boudha mani boy boy harres girl',\n 'walk street pm return friend hous look auto man bike stop next first ignor follow stop next said quotchal mere sath pais dungaquot want sleep money felt dumbstruck angri yell drove away',\n 'travel bu man came behind felt peni push elbow stomach move forward',\n 'survey carri safec red dot foundat along safec audit street market mumbai',\n 'inappropri behavior even',\n 'return tution men start comment',\n 'use abus languag travel friend night hour abus subject friend',\n 'follow old man near market',\n 'touch grope railway',\n 'walk night hour peopl comment upon polic not care incid took place front',\n 'bad experi',\n 'almost everyday thing find place unsaf alway wid brother dad visit market go',\n 'face lewd sexual remark physic apper guy dash walk street not safe citi singl woman',\n 'one monday afternoon school sent mom farm collect cocoyam seed plant reach harass boy ask date tring forc accept fortun somebodi came recu',\n 'street boy came near sister pull half pant teas badli',\n 'guy commenitng',\n 'two person next door open window side neighbour loge side veiw',\n 'veget market guy tri take pictur scold back knew',\n 'unknown boy click photograph bu',\n 'man touch privat bodi part public bu',\n 'shop boy pass comment',\n 'friend inappropri touch man',\n 'guy tri grope crowd train',\n 'return hous way watch one girl wait bu huda citi center boy bike came girl near comment time bu come went bu',\n 'harass',\n 'boy teas sister way home',\n 'friend face situat pass road unknown boy whistl comment dress genuin scare share feel due felt realli bad',\n 'walk road guy go bike start comment friend',\n 'go tuition two guy follow till tuition comment',\n 'comment dress girl wear stare continu happen afternoon',\n 'sometim safe sometim reason crowd happen almost everi second day',\n 'grope market even',\n 'school one drunk man public place touch breast press froze react think feel littl bad',\n 'friend openli stare metro comment pass simpli wear dress',\n 'grope',\n 'group men kept stare made uncomfort use differ rout avoid',\n 'middl age man nepal yatayat touch hand well tri touch privat part',\n 'guy irrita girl afternoon',\n 'boy alway sit wait pass start call one day told would catch imoregn said wast parent money go school',\n 'friend went dinner man came us start pass nasti comment friend',\n 'car man urin open ground near lyon maid compani acual not care whether look use middl finger send abuss messag',\n 'teacher beat pupil',\n 'stand line grope behindipu dwarka canteenafternoon pm',\n 'friend wait sector bu stand car stop guy ask us come made litchi comment',\n 'touch crowd place comment',\n 'gone fren place day teej lot peopl gather one person stare later start click pictur make video',\n 'someon pinch butt metro',\n 'neighbour defil year old girl defil neighbour leav badli hurt',\n 'friend mine sexual harass bu though seat bu vacant old guy sat near keep touch intent want creat scene get bu though stop',\n 'happen front saraswati nirman around pm friend walk road two boy ride activa hit friend hip',\n 'yesterday go movi pvr saket saw creepi look guy follow us follow us place constantli pass lewd comment not reach secur posit felt safe',\n 'student feel safe station face assault almost daili',\n 'nepal yatayat bu crorw n one woman besid stand thre back ane boy stnade n tri touch n woman sout n everri bu forc leav bu',\n 'incid happen sister wed boy kept click pictur confront told like told come privat place refus threaten tell everyon want run away scare not know went back home not get day happen near kali mata mandir',\n 'survey carri safec red dot foundat along safec audit street market mumbai',\n 'guy comment upon travel metro morn',\n 'night usual face',\n 'localit deal stare comment daili basi',\n 'filthi lewd comment pass happen even market place',\n 'man tri touch walk road',\n 'way colleg notic man click pictur station',\n 'ogl group men bu stop',\n 'man took pictur without consent',\n 'teacher beat pupil',\n 'misbehav',\n 'classmat ht std click pictur stand outsid class without permiss punish sir soon got know',\n 'ogl',\n 'guy comment follow insid metro station',\n 'happen come back school boy sit infront hostel follow wish even catcal whitl',\n 'guy make indec comment',\n 'foreign travel friend bu jhansi khajuraho stop friend went bathroom left alon minut bu driver came tri lift larg bag ask marri time thought strang said naiv grab breast much struggl bag shock realli respond feel could tell polici noon els seen incid',\n 'someon take pictur secretli',\n 'one day travel bu saw group boy teas call catcal whistl sing girl',\n 'classmat girl hit pebbl teas',\n 'boy teas return friend home like',\n 'morn',\n 'rubbish messag came inbox day disturb',\n 'harass',\n 'went meet famou amp well known philanthropist offic also journalist big fan took offic guest room forc hug kiss nice job felt asham meet anyth noth n left place',\n 'realli bad',\n 'insid colleg premis mental harass',\n 'random guy start take pictur',\n 'not feel safe',\n 'someon grope behind',\n 'ogl take pictur',\n 'poor light area therefor night becom difficult girl go hous',\n 'come back home colleg around walk lane man went past bike grab breast scream drove away dark could not notic bike registr number',\n 'incid took place th jan morn head haridwar train train passeng comment girl blind ask person live dont know uncomfort girl',\n 'boy call girl vulgar languag realli bad facial express',\n 'guy follow',\n 'train man came behind start touch father hit',\n 'travel dilshad garden v guy besid seat grabe thigh realli horrifi cri moment',\n 'man snatch friend chain walk road',\n 'wait friend near dosa stall two guy whistl year old',\n 'feel unsaf travel even nearbi societi incid grope back public old guy want scream want cri',\n 'stare make express bu stop touch',\n 'abus us railway station',\n 'even hour subject filthi face make boy',\n 'kakariya garden take pictur',\n 'incid took place even go home market minut walk guy bike comment whistl happen time shout right back never dare say anyth els',\n 'even comment upon',\n 'follow drink comment',\n 'realli bad',\n 'friend abus one boy touch breast infront whole class boy girl quarel boy threaten go disgrac public day everybodi class girl enter class boy hurri pull gown girl asham',\n 'return home errand middl age man probabl go home work pass brush past touch inappropri turn reprimand man rememb tri run away unnot verbal abus',\n 'usual travel public transport peopl tri touch',\n 'western visitor taj mahal august know exactli mani photo taken mani count',\n 'know well citi buse rush h kondapursecunderabad men liter fall ladi wantedli take bu swing chanc even conductor not stop come front till ladi seat peopl around girl rais voic particularli near hitech citi krishnanagar stop one rais voic activ',\n 'student area men whistl young girl',\n 'harass even',\n 'constant comment stare',\n 'boy start comment wait bu come',\n 'two boy take pictur friend metro station turn away',\n 'wait friend stranger click pictur',\n 'way market step onbi strander went call prostitutt push',\n 'man old enough stand near two girl busi talk stare girl cheapli discomfort',\n 'father law made sexual advanc toward go wednesday market ask kiss got home horrifi told mother law told need live not tell husband send parent',\n 'guy tri touch inappropri place',\n 'two boy ice cream activa not wear helmet scooti tri put ice cream mouth stalk till home',\n 'old man flash near metro station entranc',\n 'night subject comment thought best ignor comment whistl alon one around',\n 'around month back boy follow afternoon',\n 'return danc class man grab ars ran away',\n 'guy rub bu oogl',\n 'molest teacher rape manag run away',\n 'minor girl roam outsid place stalk two men ran fast reach place',\n 'two bike four men came surround come class',\n 'sexual invit stalk',\n 'friend walk way one boy follow us',\n 'teacher beat pupil buttock',\n 'girl harass',\n 'usual take place day slow down peopl around station',\n 'group boy stand near us make weird express move away start whistl',\n 'happen mom walk dad motorbik men execut',\n 'group boy use sit car front societi everyday use pass comment',\n 'dtc bu conductor use abus languag talk old ladi uttam nagar west delhi',\n 'harass',\n 'one even pass car saw young man stand girl came car discov young girl lie helpless report polic passer someon even snap photo show naked',\n 'travel sister bu sister sat differ seat sat boy teas talk indirectli tell',\n 'near colleg road side boy colleg student use keep whistl friend walk disturb complain teacher call boy warn',\n 'less femal constabl not safe late night',\n 'chain snatch market woman near patel chest even',\n 'chain snatch attempt made two guy bike incid took place even',\n 'colleg boy alway touch privat part much mental physic problem',\n 'harass',\n 'visit white gumba friend three boy way comment us',\n 'realli bad',\n 'could feel boy erect travel mhrtc bu',\n 'walk toward home group adult use unusu word toward',\n 'old man shop comment us buy thing shop',\n 'touch grope',\n 'stalk boy subway',\n 'young mam walk along redros school within olymp estat forcingli touch anoth girl waist girl kept push hand',\n 'age yearstyp harassmentstar ogl leh market day time',\n 'bu journey malad nm colleg boy stand near touch bodi n grope',\n 'men grope girl alon peopl around rescu goon escap',\n 'phone snatch guy wheeler',\n 'salesman ogl tri grope',\n 'saw guy ladi walk hold hand thought well second later loud nois ran closer see go late girl sexual harass guy torn cloth badli left felt sorri ladi couldnt help',\n 'man comment girl amp step behind girl bu stand happen june kapashera border',\n 'comment',\n 'grope man way back home balaji chowk even not know ran away',\n 'walk grab bu reach colleg guy ask time repli back ask look back flash peni inform sex felt offend not abl anyth walk away still follow wile left',\n 'saw boy comment give unhealthi facial express girl market',\n 'happen elphinston station bridg',\n 'happen friend around month back way colleg morn boy comment',\n 'sit audi complet journal two senior guy pass comment',\n 'year old stare villag daytim',\n 'two boy follow pass lewd comment',\n 'took place night gang guy tri come close pass indec comment',\n 'boy touch want want stuff forc',\n 'realli bad',\n 'lone road chain snatch',\n 'comment ogl',\n 'happen everyday road buse train mani instanc femal face incid',\n 'sent shop mom blackout light street two men start follow start touch privat part screem peopl came rescu',\n 'wit incid boy comment girl make weird facial express even hour',\n 'man tri touch bodi girl tri touch physic organ bodi',\n 'type incid common day femal target even train',\n 'touch grope comment ogl sexual invit',\n 'jab tiyushan clla jati hu vo maera picha karta hae',\n 'return school stranger stand near whistl',\n 'jog neighborhood catcal stalk car foot men scream ignor whistl comment openli ogl happen saw tri flag polic car help though saw drove',\n 'actual sexual harass rape sixteen year old not good experi',\n 'guy comment girl happen afternoon',\n 'went shop near hous ask give bread ask pull chair',\n 'crowd thin boy stay back rock hidden view realiz alon quickli start descend without look back began chase scream bhaagi ran approx step reach gate hid near secur guard misdirect wait minut catch breath move quickli toward crowd nakki lake area hotel',\n 'walk colleg two roadsid guy follow matunga station ruia cooleg',\n 'th dec walk drink spot realis movement behind realis touch pocket immedi grab hand person tri rob call peopl around togeth got well beaten say smart god side',\n 'travel local train almost year amp still unabl look move train opposit sight track ask day decid look move train find men stare make indec advanc toward mani women',\n 'gay friend constantli humili colleg friend sexual natur',\n 'alway indec touch travel crowd place afternoon',\n 'chain snatch biker',\n 'pass lewd remark',\n 'incid took place near haiderpur area afternoon ladi sit outsid hous two person bike snatch chain leav helpless ground',\n 'happen one batchmat return colleg way quiet amp empti toward hous boy saw girl come alon kidnap took jungl rape',\n 'tnagar busi street even busier festiv season one festiv season shop felt someon tri touch stomach resist look left place',\n 'girl touch breast go home',\n 'come back home friend hous drunk man kept follow till hous even shout abus word',\n 'grope',\n 'comment catcal whistl',\n 'attempt sexual molest neighbour',\n 'guy car continu stalk happen night',\n 'incid took place around august afternoon woman walk two boy came bike snatch chain',\n 'stalk',\n 'drunk guy teas school go girl adarsh nagar bu stop next multani',\n 'visit palika bazaar ac shop market terrifi friend women place fill men shopkeep pass lewd comment men tri come close feel us group boy tourist came close touch threaten call polic polic men women insid market make women feel safe never go enter market',\n 'pick pocket brother',\n 'snatch steal',\n 'th dec come back church night suddenli guy held hand tell come hous tri remov hand start insult tell claim holi felt harass',\n 'ladkiki yonima prathmikshlaka tichar shkrbhina ugliyadali payjama kulavak',\n 'comment pictur taken night',\n 'even subject catcal whistl',\n 'go back home market guy follow light street ask money said dont peni bit',\n 'rickshaw driver start click pictur front seat happen even',\n 'employ work socapalm plantat alon work section head team came start touch said want friend accept sex give anyth want',\n 'wear gown print shape fit went park pay travel ticket guy start comment figur make facial express extent touch',\n 'earli morn wait althino bu stand catch bu panjim bu stand one man start comment bodi use indec word stood next start play porn video mobil comment',\n 'harrow experi',\n 'boy studi grade pass bhandari tole saw lot gang peopl comment use rough word hurt',\n 'twice grope drunk men societi night hour school know react',\n 'man start comment street friend',\n 'man road near maratha mandir tell quoti love babyquot girl pass',\n 'girl walk shop home met two patrol polic offic approach ask got sweater told quotgot father secur officerquot insist arrest sweater resembl polic offic walk lawcourt compound start touch breast buttock',\n 'touch grope',\n 'touch possibl person area bodi guy rub hand butt one time tri look insid top',\n 'went shop night stand buy food stuff man touch behind two hand tiurn ask deni touch walk away quickli withought buy thing shop',\n 'wait sister one boy across street seem like look phone suddenli saw flash light realiz took pictur',\n 'man make face call name girl bu',\n 'inspit unknown whistl blown comment pass happen morn',\n 'pass lewd comment',\n 'crowd thousand tirupati templ male friend harass queue',\n 'poor street light',\n 'son owner kengel bar usual defil children habbit sexual harass differ ladi mother financi stabl alway influenc justic resourc',\n 'someon tri strangl',\n 'like everi morn jog toward central park two boy suddenli start jog behind start whistl ask look back made kiss sound peopl street time look pretti drunk hurl abus ask much night somehow escap situat everi go stop',\n 'travel bu ponda keri conductor bu touch breast bu full passeng',\n 'incid took place insid metro feeder even came sat next tri touch back',\n 'sit desk work manag come ask updat stare chest femal also make indec remark newli join member regard sare',\n 'ask sexual favor group men park went walk',\n 'friend went mcleod ganj trip pm left illiterati cafe head toward hotel road ill lit hardli peopl passer peopl go car start whistl comment stop time front us experi quit frighten sinc outnumb dark complet new place',\n 'happen afternoonn',\n 'dark friend come back school read around pm harass rapist',\n 'comment take pictur metro even',\n 'go offic one man ask umbrella share rude forc umbrella share',\n 'follow',\n 'girl harras',\n 'auto driver kept us drive place destin',\n 'felt terribl',\n 'man tri grope sunday market crowd could not understand happen felt bad',\n 'felt wana cri loud boy comment whistl worst experi life',\n 'comment pass commun indira nagar',\n 'happnen year ago near prestig shantiniketan psn whitefield bangalor live psn time use commut offic cycl even guy block way shout touch breast scream top voic car stop help ran away call hubbi immedi tri catch made huge hue cri polic time also tri make psn secur extend area side road not stay current know situat',\n 'pass station saw group guy start comment',\n 'abus',\n 'chain snatch main market',\n 'happen afternoon near drain near uttam nagar east metro station men whistl stay dirti thing told peopl around ignor sinc alon went back home fast',\n 'incid took place th jan rajiv chowk metro station even cp sit lone place guy walk upto want engag convers',\n 'incid took place year ago afternoon follow unnecessari comment even repuls',\n 'survey carri safec red dot foundat along safec audit street market mumbai',\n 'sister walk go home met boy stop us took purs us grab sister thigh said quotyou hot onequot',\n 'father mother neglect toward well fare not go school sleep outsid drunkar come back late pick plastic bottl get someth eat',\n 'guy stare friend carter road sit opposit us masturb realiz stare back zip pant left place',\n 'stare',\n 'ogl common',\n 'two boy bike snatch chain woman stand near gate wear mask',\n 'boy sing say bad word',\n 'even subject peopl comment stare take pictur',\n 'met three men go friend funer arm panga took money forc us sex left us',\n 'ladi went uncl hous demand money school fee arriv uncl forc tie chair one leg one side leg side girl year old',\n 'sell meat call quotpotquot ask put pot order buy knew kick slap face also well rape two bodi build men said look never portray could thing collect purs consist money phone badli hurt face swollen',\n 'friend around year singl hiv posit two children want visit kapaleeshwar templ aruvathimuvar tank festiv dress well one normal take part social event proceed mylapor leav notic mobil low batteri henc decid not carri mobil around pm rude shock two polic constabl question said come see festiv said lie push ask come mylapor station protest slap time time plead left children home not heed request pm told hiv infect import take medicin time hear polic men went mad rage accus not deserv aliv pollut whole place held polic custodi till traumatis could not call anybodi everyth store mobil told shall lodg complaint scare report said one line touch madam women even liberti see templ festiv',\n 'harass',\n 'teacher beat student',\n 'function puja sister went search flower even walk way boy whistl bulli us suddenli go pick flower boy snatch sister chain ran away blue pulsar',\n 'rohini sector guy comment make facial express take pictur',\n 'happen cousin come home colleg late guy tri touch',\n 'teacher sexual harrass student',\n 'stalk boy broad day light kept make indec gestur everytim look',\n 'even chain snatch peopl around theft not success',\n 'friend came place around month back way boy stare inappropri manner happen front mosqu afternoon',\n 'use go colleg way group boy use gather tri commun even use follow sometim',\n 'guy pass invit car',\n 'go play play ground group girl teas comment',\n 'bu guy came amp sat besid even though ladi seat spread leg amp purpos tri touch show accid',\n 'italian friend mine wate use washroom get mahim station walk bar restraunt afternoon ask could use washroom insist buy someth use washroom time exit push lock room fortun enough get away scream top voic',\n 'two boy daili follow metro station pass comment',\n 'realli bad',\n 'experienc someon ask sexual invit alon pass desert lane',\n 'boy usual follow home everyday',\n 'stalk comment',\n 'comment catcal',\n 'regular colleg go girl studi st franci colleg women uma nagar begumpet due fact girl colleg whole lane lead kundanbagh loiter place mani eve teaser even girl get teas forc walk away silent due indiffer peopl around stay littl less kilomet away colleg grope twice broad daylight middl age man near begumpet railway station near countri club way colleg nobodi help despit loud cri howev made effort note bastard vehicl number ap ba sinc day grope never abl go alon fear whole ameerpet area extrem crowd full thug cheap youngster place live leelanagar echo catcal lewd comment full stalker',\n 'friend movi creep theater follow us around movi stop follow us chang rout',\n 'harass',\n 'particip crisscross citi road late night hour found mani stretch road includ arteri road like j road mani road streetlight either dysfunct dim fail illumin road pavement poorli lit mumbaibangalor bypass infam road mishap',\n 'boy stare catcal walk',\n 'biker miss treat',\n 'girl go parti wait auto rickshaw pictur taken happen night',\n 'imax hyderabad pervert rampant eveteas catcal grope goe along lout make sexual gestur urg ap polic crack',\n 'comment',\n 'head toward tuition someon actual follow',\n 'realli bad',\n 'travel public bu go uncl place got sit bu min two guy enter bu look power n muscular touch teas make feel embarrass pull sit sat ther',\n 'go photocopi shop makina boda boda oper start shout call sit motorbik could ferri wherev go declin sinc walk distanc thye start tell tat boast not even shape turn ask shape bought creat could buy one good curvi shape',\n 'head home coach suddenli guy tri kidnap slap snatch phone ran away',\n 'eve teaser present everywher delhi even road afternoon instead identifi place put check eveteas better polic etc',\n 'man use abus girl oftenli buy girl chip sweet',\n 'man live underag girl use tell peopl daughter came relis abus use wife girl yr old',\n 'men comment whistl month ago',\n 'one femal friend grope guy metro go colleg',\n 'harass dtc bu',\n 'sexual invit outsid hansraj colleg morn guy came ask',\n 'misbehav',\n 'mani incid mention particular incid comment drunkard friend bu',\n 'strang peopl follow one ask phone number decid give wrong number could free',\n 'peopl comment girl actual call gr insid car',\n 'vulgar touch stupid bike rider expect illeg element caus troubl girl sometim peopl seen indescrib activ front girl hostel close proxim know fuck shit get',\n 'happen friend public bu one man came ask mobil number tri touch senset area',\n 'walk street group boy sing song scare ran',\n 'stand two friend societi notic boy continu stare us suddenli notic wear pant three us ran away',\n 'teacher impregn primari girl',\n 'way school morn time boy follow tri show nude photo',\n 'sister said gone morn walk man came bike stop front amp forc stay bike amp go behav sister known earlier seen',\n 'walk men start comment bad languag onlook let go',\n 'colleg nearbi happen time guy pass comment stare tri touch frustrat lta hrefhttp download cnet com freeyoutubedownloaderpro html gtyoutub downloaderlt agt',\n 'crowd vehicl one man lean bodi mine make uncomfort',\n 'guy comment pass',\n 'tuesday morn way church boy whistl come toward start run back home old man one stop folow',\n 'auto driver ask sex',\n 'secur guard build keep stare make weird face whenev see offend',\n 'stalk',\n 'forc hug stranger way home',\n 'someon comment look continu stalk',\n 'north east girl sexual assault',\n 'ogl cgrope indec board metro travel',\n 'harass',\n 'one girl walk road even drunk men comment girl ignor',\n 'man pretend send shop get medicin intent touch breast',\n 'night group young boy follow girl stole hand bag phone luckili girl safe',\n 'go friend place first timr cab one end bridg ask direct two peopl came ahead right insid cab peep window ask sexual invit touch',\n 'go home govern school boy pass comment start whistl tri touch',\n 'one girl touch conduct',\n 'rape seen midnight girl found nake',\n 'proper light night secur near colleg lead eve teaser around colleg',\n 'offer gift',\n 'happen afternoon around noon time walk along niec get rickshaw man motorbik face fulli cover scarf helmet show sexual part',\n 'morn come hous rohini boy stand road comment',\n 'follow man',\n 'return home ride bicycl almost near home suddenli stranger came infront start comment',\n 'two boy bike comment abus friend leav colleg move toward metro station',\n 'even guy show middl finger call slut loud enough peopl hear',\n 'even time two young boy ride bike roam around time eventu snatch chain old women ran away realli scari moment stop',\n 'tri touch breast elbow hand',\n 'lick vagina']"
     },
     "execution_count": 11,
     "metadata": {},
     "output_type": "execute_result"
    }
   ],
   "source": [
    "corpus"
   ]
  },
  {
   "cell_type": "markdown",
   "metadata": {},
   "source": [
    "# Creating a Bage of words model"
   ]
  },
  {
   "cell_type": "code",
   "execution_count": 12,
   "metadata": {},
   "outputs": [],
   "source": [
    "from sklearn.feature_extraction.text import CountVectorizer\n",
    "cv = CountVectorizer(max_features=1500) ##1500 columns\n",
    "X = cv.fit_transform(corpus).toarray()\n",
    "y = dataset[\"Category\"]"
   ]
  },
  {
   "cell_type": "code",
   "execution_count": 13,
   "metadata": {},
   "outputs": [
    {
     "data": {
      "text/plain": "1500"
     },
     "execution_count": 13,
     "metadata": {},
     "output_type": "execute_result"
    }
   ],
   "source": [
    "len(X[0])  ## no. of col"
   ]
  },
  {
   "cell_type": "code",
   "execution_count": 14,
   "metadata": {},
   "outputs": [],
   "source": [
    "import pickle\n",
    "pickle.dump(cv, open('cvx.pkl', 'wb'))"
   ]
  },
  {
   "cell_type": "markdown",
   "metadata": {},
   "source": [
    "# Spliting the data"
   ]
  },
  {
   "cell_type": "code",
   "execution_count": 15,
   "metadata": {},
   "outputs": [
    {
     "data": {
      "text/plain": "((792, 1500), (199,))"
     },
     "execution_count": 15,
     "metadata": {},
     "output_type": "execute_result"
    }
   ],
   "source": [
    "from sklearn.model_selection import train_test_split\n",
    "X_train,X_test,y_train,y_test = train_test_split(X,y,test_size=0.2,random_state=0)\n",
    "X_train.shape , y_test.shape"
   ]
  },
  {
   "cell_type": "code",
   "execution_count": 16,
   "metadata": {},
   "outputs": [],
   "source": [
    "from sklearn.naive_bayes import GaussianNB,MultinomialNB\n",
    "classifier = GaussianNB().fit(X_train, y_train)\n",
    "cls = MultinomialNB().fit(X_train, y_train)"
   ]
  },
  {
   "cell_type": "code",
   "execution_count": 17,
   "metadata": {},
   "outputs": [
    {
     "data": {
      "text/plain": "0.6834170854271356"
     },
     "execution_count": 17,
     "metadata": {},
     "output_type": "execute_result"
    }
   ],
   "source": [
    "cls.score(X_test,y_test)"
   ]
  },
  {
   "cell_type": "code",
   "execution_count": 18,
   "metadata": {},
   "outputs": [
    {
     "data": {
      "text/plain": "0.5326633165829145"
     },
     "execution_count": 18,
     "metadata": {},
     "output_type": "execute_result"
    }
   ],
   "source": [
    "classifier.score(X_test,y_test)"
   ]
  },
  {
   "cell_type": "code",
   "execution_count": 19,
   "metadata": {},
   "outputs": [
    {
     "data": {
      "text/plain": "pandas.core.series.Series"
     },
     "execution_count": 19,
     "metadata": {},
     "output_type": "execute_result"
    }
   ],
   "source": [
    "y_pred = cls.predict(X_test)\n",
    "type(y_test)"
   ]
  },
  {
   "cell_type": "code",
   "execution_count": 20,
   "metadata": {},
   "outputs": [
    {
     "name": "stdout",
     "output_type": "stream",
     "text": [
      "[[0 0]\n",
      " [0 0]\n",
      " [0 0]\n",
      " [1 1]\n",
      " [0 0]\n",
      " [0 0]\n",
      " [1 1]\n",
      " [1 1]\n",
      " [1 1]\n",
      " [1 1]\n",
      " [0 1]\n",
      " [0 0]\n",
      " [0 0]\n",
      " [0 0]\n",
      " [0 1]\n",
      " [0 1]\n",
      " [1 0]\n",
      " [0 1]\n",
      " [1 0]\n",
      " [1 0]\n",
      " [1 1]\n",
      " [0 1]\n",
      " [1 0]\n",
      " [0 0]\n",
      " [0 0]\n",
      " [0 0]\n",
      " [0 0]\n",
      " [0 0]\n",
      " [1 1]\n",
      " [1 1]\n",
      " [1 0]\n",
      " [1 1]\n",
      " [0 0]\n",
      " [1 1]\n",
      " [1 1]\n",
      " [1 1]\n",
      " [1 0]\n",
      " [0 0]\n",
      " [1 0]\n",
      " [0 1]\n",
      " [1 0]\n",
      " [0 0]\n",
      " [0 0]\n",
      " [1 1]\n",
      " [0 0]\n",
      " [0 0]\n",
      " [0 0]\n",
      " [1 0]\n",
      " [0 0]\n",
      " [1 0]\n",
      " [0 1]\n",
      " [0 0]\n",
      " [0 0]\n",
      " [0 0]\n",
      " [0 0]\n",
      " [0 0]\n",
      " [1 1]\n",
      " [0 1]\n",
      " [0 0]\n",
      " [1 1]\n",
      " [0 0]\n",
      " [1 0]\n",
      " [0 0]\n",
      " [1 1]\n",
      " [0 0]\n",
      " [0 0]\n",
      " [0 1]\n",
      " [1 0]\n",
      " [1 1]\n",
      " [1 0]\n",
      " [1 0]\n",
      " [1 1]\n",
      " [0 0]\n",
      " [1 0]\n",
      " [0 0]\n",
      " [0 1]\n",
      " [0 0]\n",
      " [1 1]\n",
      " [1 0]\n",
      " [1 1]\n",
      " [1 0]\n",
      " [1 0]\n",
      " [1 1]\n",
      " [1 0]\n",
      " [0 0]\n",
      " [0 0]\n",
      " [0 0]\n",
      " [0 0]\n",
      " [1 1]\n",
      " [0 0]\n",
      " [1 0]\n",
      " [0 0]\n",
      " [1 0]\n",
      " [1 1]\n",
      " [0 0]\n",
      " [0 0]\n",
      " [1 1]\n",
      " [0 0]\n",
      " [1 1]\n",
      " [0 0]\n",
      " [1 0]\n",
      " [1 1]\n",
      " [1 0]\n",
      " [1 1]\n",
      " [1 1]\n",
      " [0 1]\n",
      " [0 0]\n",
      " [0 0]\n",
      " [0 0]\n",
      " [0 0]\n",
      " [1 1]\n",
      " [1 0]\n",
      " [1 1]\n",
      " [0 0]\n",
      " [1 1]\n",
      " [1 1]\n",
      " [0 0]\n",
      " [0 0]\n",
      " [0 1]\n",
      " [0 0]\n",
      " [0 0]\n",
      " [0 0]\n",
      " [1 0]\n",
      " [0 1]\n",
      " [0 1]\n",
      " [1 0]\n",
      " [0 0]\n",
      " [1 0]\n",
      " [1 0]\n",
      " [1 1]\n",
      " [0 0]\n",
      " [0 0]\n",
      " [0 0]\n",
      " [0 0]\n",
      " [1 0]\n",
      " [0 0]\n",
      " [1 0]\n",
      " [0 0]\n",
      " [1 0]\n",
      " [1 1]\n",
      " [1 1]\n",
      " [1 1]\n",
      " [1 1]\n",
      " [0 0]\n",
      " [0 0]\n",
      " [1 0]\n",
      " [1 1]\n",
      " [0 0]\n",
      " [0 0]\n",
      " [0 0]\n",
      " [1 0]\n",
      " [0 0]\n",
      " [0 0]\n",
      " [1 1]\n",
      " [1 0]\n",
      " [1 0]\n",
      " [1 1]\n",
      " [1 0]\n",
      " [1 1]\n",
      " [1 1]\n",
      " [1 0]\n",
      " [1 1]\n",
      " [1 0]\n",
      " [0 0]\n",
      " [1 0]\n",
      " [1 1]\n",
      " [0 0]\n",
      " [0 1]\n",
      " [1 1]\n",
      " [1 0]\n",
      " [1 0]\n",
      " [0 0]\n",
      " [1 0]\n",
      " [0 1]\n",
      " [0 0]\n",
      " [1 0]\n",
      " [1 1]\n",
      " [1 1]\n",
      " [1 1]\n",
      " [0 0]\n",
      " [0 0]\n",
      " [0 0]\n",
      " [0 0]\n",
      " [0 0]\n",
      " [0 0]\n",
      " [0 0]\n",
      " [1 0]\n",
      " [0 0]\n",
      " [1 1]\n",
      " [1 0]\n",
      " [1 1]\n",
      " [0 0]\n",
      " [0 1]\n",
      " [0 0]\n",
      " [1 0]\n",
      " [0 0]\n",
      " [0 0]\n",
      " [1 1]\n",
      " [0 0]]\n"
     ]
    }
   ],
   "source": [
    "print(np.concatenate((y_pred.reshape(len(y_pred),1), np.array(y_test).reshape(len(y_test),1)),1))"
   ]
  },
  {
   "cell_type": "code",
   "execution_count": 21,
   "metadata": {},
   "outputs": [
    {
     "name": "stdout",
     "output_type": "stream",
     "text": [
      "[[85 46]\n",
      " [17 51]] 68.34170854271356\n"
     ]
    }
   ],
   "source": [
    "from sklearn.metrics import confusion_matrix,accuracy_score\n",
    "cm = confusion_matrix(y_test, y_pred)\n",
    "score = accuracy_score(y_test,y_pred)\n",
    "print(cm,score*100)"
   ]
  },
  {
   "cell_type": "code",
   "execution_count": 22,
   "metadata": {},
   "outputs": [
    {
     "data": {
      "text/plain": "pandas.core.series.Series"
     },
     "execution_count": 22,
     "metadata": {},
     "output_type": "execute_result"
    }
   ],
   "source": [
    "type(y_test)"
   ]
  },
  {
   "cell_type": "code",
   "execution_count": 23,
   "metadata": {},
   "outputs": [],
   "source": [
    "import pickle\n",
    "# Save trained model to file\n",
    "pickle.dump(cls, open(\"chatx.pkl\", \"wb\"))"
   ]
  },
  {
   "cell_type": "code",
   "execution_count": 24,
   "metadata": {},
   "outputs": [
    {
     "data": {
      "text/plain": "0.6834170854271356"
     },
     "execution_count": 24,
     "metadata": {},
     "output_type": "execute_result"
    }
   ],
   "source": [
    "loaded_model = pickle.load(open(\"chatx.pkl\", \"rb\"))\n",
    "loaded_model.predict(X_test)\n",
    "loaded_model.score(X_test,y_test)"
   ]
  },
  {
   "cell_type": "markdown",
   "metadata": {},
   "source": [
    "# Prediction result for new chats"
   ]
  },
  {
   "cell_type": "code",
   "execution_count": 25,
   "metadata": {},
   "outputs": [
    {
     "name": "stdout",
     "output_type": "stream",
     "text": [
      "(1, 1500)\n",
      "Not Sexual Predation\n"
     ]
    }
   ],
   "source": [
    "def new_chat(new_chat):\n",
    "    new_chat = new_chat\n",
    "    new_chat = re.sub('[^a-zA-Z]', ' ', new_chat)\n",
    "    new_chat = new_chat.lower()\n",
    "    new_chat = new_chat.split()\n",
    "    ps = PorterStemmer()\n",
    "    all_stopwords = stopwords.words('english')\n",
    "    all_stopwords.remove('not')\n",
    "    new_chat = [ps.stem(word) for word in new_chat if not word in set(all_stopwords)]\n",
    "    new_chat = ' '.join(new_chat)\n",
    "    new_corpus = [new_chat]\n",
    "    new_X_test = cv.transform(new_corpus).toarray()\n",
    "    print(new_X_test.shape)\n",
    "    new_y_pred = loaded_model.predict(new_X_test)\n",
    "    return new_y_pred\n",
    "\n",
    "new_chat = new_chat(str(input(\"Enter new chat...\")))\n",
    "if new_chat[0]==1:\n",
    "    print(\"Sexual Predation\")\n",
    "else :\n",
    "    print(\"Not Sexual Predation\")"
   ]
  },
  {
   "cell_type": "code",
   "execution_count": 25,
   "metadata": {},
   "outputs": [],
   "source": []
  }
 ],
 "metadata": {
  "kernelspec": {
   "display_name": "Python 3 (ipykernel)",
   "language": "python",
   "name": "python3"
  },
  "language_info": {
   "codemirror_mode": {
    "name": "ipython",
    "version": 3
   },
   "file_extension": ".py",
   "mimetype": "text/x-python",
   "name": "python",
   "nbconvert_exporter": "python",
   "pygments_lexer": "ipython3",
   "version": "3.9.7"
  }
 },
 "nbformat": 4,
 "nbformat_minor": 4
}